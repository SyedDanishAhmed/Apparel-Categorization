{
 "cells": [
  {
   "cell_type": "code",
   "execution_count": 3,
   "metadata": {},
   "outputs": [],
   "source": [
    "# Importing all the required libraries\n",
    "import glob\n",
    "import os\n",
    "from shutil import copy\n",
    "import re"
   ]
  },
  {
   "cell_type": "code",
   "execution_count": 5,
   "metadata": {},
   "outputs": [],
   "source": [
    "#Splitting data into Test and Train\n",
    "diff_categories = []\n",
    "pat = '^.*flat.*$' #Pattern used to find the required image\n",
    "\n",
    "os.chdir(r'C:\\Users\\Kartik\\Desktop\\Study Material\\E-commerce Tech\\Project\\Neuro-pic\\Categorizing Project\\Iterations\\Denim_Sweaters Project')\n",
    "\n",
    "folders = glob.glob('./Data/Raw Data/*')\n",
    "for folder in folders:\n",
    "    diff_categories.append(folder.split('\\\\')[1])\n",
    "    dest_train = './Data/Model Data/Train/'+folder.split('\\\\')[1]\n",
    "    dest_test = './Data/Model Data/Test/'+folder.split('\\\\')[1]\n",
    "    os.mkdir(dest_train)\n",
    "    os.mkdir(dest_test)\n",
    "    categories_contents = glob.glob(folder+'/*')\n",
    "    count = 0\n",
    "    for category in categories_contents:\n",
    "        folder_contents = glob.glob(category+'/*')\n",
    "        for file in folder_contents:\n",
    "            if re.search(pat, file)!= None:\n",
    "                count+=1\n",
    "    copied = 0\n",
    "    for category in categories_contents:\n",
    "        folder_contents = glob.glob(category+'/*')\n",
    "        for file in folder_contents:\n",
    "            if re.search(pat, file)!= None:\n",
    "                copied+=1\n",
    "                if copied < int(count*4/5): #Splitting the images into 4:1 ratio\n",
    "                    copy(file, dest_train+'/Train_Pic'+str(copied)+'.jpg')\n",
    "                else:\n",
    "                    copy(file, dest_test+'/Test_Pic'+str(copied)+'.jpg')"
   ]
  }
 ],
 "metadata": {
  "kernelspec": {
   "display_name": "Python 3",
   "language": "python",
   "name": "python3"
  },
  "language_info": {
   "codemirror_mode": {
    "name": "ipython",
    "version": 3
   },
   "file_extension": ".py",
   "mimetype": "text/x-python",
   "name": "python",
   "nbconvert_exporter": "python",
   "pygments_lexer": "ipython3",
   "version": "3.7.3"
  },
  "varInspector": {
   "cols": {
    "lenName": 16,
    "lenType": 16,
    "lenVar": 40
   },
   "kernels_config": {
    "python": {
     "delete_cmd_postfix": "",
     "delete_cmd_prefix": "del ",
     "library": "var_list.py",
     "varRefreshCmd": "print(var_dic_list())"
    },
    "r": {
     "delete_cmd_postfix": ") ",
     "delete_cmd_prefix": "rm(",
     "library": "var_list.r",
     "varRefreshCmd": "cat(var_dic_list()) "
    }
   },
   "types_to_exclude": [
    "module",
    "function",
    "builtin_function_or_method",
    "instance",
    "_Feature"
   ],
   "window_display": false
  }
 },
 "nbformat": 4,
 "nbformat_minor": 2
}
